{
 "cells": [
  {
   "cell_type": "markdown",
   "metadata": {},
   "source": [
    "# Vertical strain for reservoir"
   ]
  },
  {
   "cell_type": "code",
   "execution_count": 20,
   "metadata": {
    "scrolled": true
   },
   "outputs": [
    {
     "name": "stdout",
     "output_type": "stream",
     "text": [
      "Cpp = 1.8212566671002992e-06\n"
     ]
    }
   ],
   "source": [
    "v = 0.15 # Poisson's ratio for reservoir\n",
    "Cpp = 0.014/7687 # Units = per psi\n",
    "print('Cpp'+' =',Cpp )\n",
    "alpha = 1 # Biot-Willis coefficient\n",
    "Pp = -1038 # Mean pressure change(psi) in reservoir"
   ]
  },
  {
   "cell_type": "code",
   "execution_count": 14,
   "metadata": {},
   "outputs": [
    {
     "name": "stdout",
     "output_type": "stream",
     "text": [
      "Cuni = -8.213510459471936e-07\n"
     ]
    }
   ],
   "source": [
    "Cuni = -(1-((2*(1-2*v)*alpha)/(3*(1-v))))*Cpp\n",
    "print('Cuni'+ ' =',Cuni)"
   ]
  },
  {
   "cell_type": "code",
   "execution_count": 24,
   "metadata": {
    "scrolled": true
   },
   "outputs": [
    {
     "name": "stdout",
     "output_type": "stream",
     "text": [
      "Ehh = -0.00085\n"
     ]
    }
   ],
   "source": [
    "Ehh = - Cuni * Pp\n",
    "print('Ehh'+ ' =',round(Ehh,5))"
   ]
  },
  {
   "cell_type": "markdown",
   "metadata": {
    "slideshow": {
     "slide_type": "slide"
    }
   },
   "source": [
    "# Interval time-shifts for overburden"
   ]
  },
  {
   "cell_type": "code",
   "execution_count": 21,
   "metadata": {
    "slideshow": {
     "slide_type": "slide"
    }
   },
   "outputs": [],
   "source": [
    "Ezz_ob      = 0.000011   # Mean vertical strain\n",
    "R_ob        = 5        \n",
    "height_ob   = 3453.36    # Mean cell height    Unit = ft\n",
    "vel_ob      = 11965.18   # Interval velocity   Unit= ft/s"
   ]
  },
  {
   "cell_type": "code",
   "execution_count": 36,
   "metadata": {
    "scrolled": true,
    "slideshow": {
     "slide_type": "slide"
    }
   },
   "outputs": [
    {
     "name": "stdout",
     "output_type": "stream",
     "text": [
      "0.038\n"
     ]
    }
   ],
   "source": [
    "\n",
    "# Interval Time SHifts in milliseconds\n",
    "Int_TS_ob = (1+R_ob)*Ezz_ob*2*(height_ob/vel_ob)*1000\n",
    "print(round(Int_TS_ob,3))\n"
   ]
  },
  {
   "cell_type": "markdown",
   "metadata": {
    "slideshow": {
     "slide_type": "slide"
    }
   },
   "source": [
    "# Interval time shifts for reservoir"
   ]
  },
  {
   "cell_type": "code",
   "execution_count": 26,
   "metadata": {
    "slideshow": {
     "slide_type": "slide"
    }
   },
   "outputs": [],
   "source": [
    "Ezz_res      = -0.00085   # Mean vertical strain\n",
    "R_res        = 2       \n",
    "height_res   = 669.62    # Mean cell height    Unit = ft\n",
    "vel_res      = 13666.84   # Interval velocity   Unit= ft/s"
   ]
  },
  {
   "cell_type": "code",
   "execution_count": 27,
   "metadata": {
    "slideshow": {
     "slide_type": "slide"
    }
   },
   "outputs": [
    {
     "name": "stdout",
     "output_type": "stream",
     "text": [
      "-0.25\n"
     ]
    }
   ],
   "source": [
    "#Interval Time SHifts in milliseconds\n",
    "Int_TS_res = (1+R_res)*Ezz_res*2*(height_res/vel_res)*1000\n",
    "print(round(Int_TS_res,3))"
   ]
  },
  {
   "cell_type": "markdown",
   "metadata": {},
   "source": [
    "# Interval time shifts for underburden"
   ]
  },
  {
   "cell_type": "code",
   "execution_count": 28,
   "metadata": {},
   "outputs": [],
   "source": [
    "Ezz_ub      = 0.000014   # Mean vertical strain\n",
    "R_ub        = 5       \n",
    "height_ub   = 3455.72    # Mean cell height    Unit = ft\n",
    "vel_ub      = 14365.57   # Interval velocity   Unit= ft/s"
   ]
  },
  {
   "cell_type": "code",
   "execution_count": 42,
   "metadata": {},
   "outputs": [
    {
     "name": "stdout",
     "output_type": "stream",
     "text": [
      "0.04\n"
     ]
    }
   ],
   "source": [
    "# Interval Time SHifts in milliseconds\n",
    "Int_TS_ub = (1+R_ub)*Ezz_ub*2*(height_ub/vel_ub)*1000\n",
    "print(round(Int_TS_ub,3))"
   ]
  }
 ],
 "metadata": {
  "kernelspec": {
   "display_name": "Python 3",
   "language": "python",
   "name": "python3"
  },
  "language_info": {
   "codemirror_mode": {
    "name": "ipython",
    "version": 3
   },
   "file_extension": ".py",
   "mimetype": "text/x-python",
   "name": "python",
   "nbconvert_exporter": "python",
   "pygments_lexer": "ipython3",
   "version": "3.6.4"
  }
 },
 "nbformat": 4,
 "nbformat_minor": 2
}
